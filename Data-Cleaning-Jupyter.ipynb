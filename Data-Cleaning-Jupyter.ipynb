{
 "cells":[
  {
   "cell_type":"markdown",
   "source":[
    "# Preprocessing SMD Appointment Dataset\n",
    "This jupyter notebook handles the cleaning of the dataset. This includes dropping of rows with null values, inconsistent values, and foreign key violations if any.\n",
    "\n",
    "The purpose of preprocessing and cleaning the source dataset is to ensure a smooth flow in the ETL process."
   ],
   "attachments":{
    
   },
   "metadata":{
    "datalore":{
     "node_id":"TFilDN2brCXe80vg3o5h9x",
     "type":"MD",
     "hide_input_from_viewers":true,
     "hide_output_from_viewers":true
    }
   }
  },
  {
   "cell_type":"markdown",
   "source":[
    "# Preloading the source data"
   ],
   "attachments":{
    
   },
   "metadata":{
    "datalore":{
     "node_id":"3JmfrCr102f6RtuYqKK1xK",
     "type":"MD",
     "hide_input_from_viewers":true,
     "hide_output_from_viewers":true
    }
   }
  },
  {
   "cell_type":"code",
   "source":[
    "import pandas as pd\n",
    "import warnings\n",
    "import dask.dataframe as dd\n",
    "warnings.filterwarnings('ignore')\n",
    "\n",
    "clinics = pd.read_csv(\"clinics.csv\", header=0, encoding='unicode_escape')\n",
    "doctors = pd.read_csv(\"doctors.csv\", header=0, encoding='unicode_escape', dtype={'age': str})\n",
    "px = pd.read_csv(\"px.csv\", header=0, encoding='unicode_escape', dtype={'age': str})\n",
    "\n",
    "df_clinics = clinics.copy()\n",
    "df_doctors = doctors.copy()\n",
    "df_px = px.copy()"
   ],
   "execution_count":19,
   "outputs":[
    
   ],
   "metadata":{
    "datalore":{
     "node_id":"yzAEjshzRLAcffgEnewRpZ",
     "type":"CODE",
     "hide_input_from_viewers":true,
     "hide_output_from_viewers":true
    }
   }
  },
  {
   "cell_type":"code",
   "source":[
    "appointment_files = [f'split_{i}.csv' for i in range(1, 11)]\n",
    "\n",
    "# Read the files into a Dask DataFrame\n",
    "df_appointment = dd.concat([dd.read_csv(f,header=0, encoding='unicode_escape', dtype = str) for f in appointment_files], ignore_index=True)"
   ],
   "execution_count":20,
   "outputs":[
    
   ],
   "metadata":{
    "datalore":{
     "node_id":"asaQ39LEFSC7Fv6WgRdJfK",
     "type":"CODE",
     "hide_input_from_viewers":true,
     "hide_output_from_viewers":true
    }
   }
  },
  {
   "cell_type":"markdown",
   "source":[
    "# Cleaning the clinics table\n",
    "The clinics table has the following attributes:\n",
    "- clinicid\n",
    "- hospitalname\n",
    "- IsHospital\n",
    "- City\n",
    "- Province\n",
    "- RegionName\n",
    "  \n",
    "Let us see clinics that have missing or duplicate values on any attribute and determine if they should be dropped"
   ],
   "attachments":{
    
   },
   "metadata":{
    "datalore":{
     "node_id":"Tm9886tdkMp9wAVWMzIMki",
     "type":"MD",
     "hide_input_from_viewers":true,
     "hide_output_from_viewers":true
    }
   }
  },
  {
   "cell_type":"code",
   "source":[
    "clinics_with_missing_values = df_clinics[df_clinics.isnull().any(axis=1)]\n",
    "clinics_with_missing_values"
   ],
   "execution_count":21,
   "outputs":[
    {
     "data":{
      "text\/html":[
       "<div>\n",
       "<style scoped>\n",
       "    .dataframe tbody tr th:only-of-type {\n",
       "        vertical-align: middle;\n",
       "    }\n",
       "\n",
       "    .dataframe tbody tr th {\n",
       "        vertical-align: top;\n",
       "    }\n",
       "\n",
       "    .dataframe thead th {\n",
       "        text-align: right;\n",
       "    }\n",
       "<\/style>\n",
       "<table border=\"1\" class=\"dataframe\">\n",
       "  <thead>\n",
       "    <tr style=\"text-align: right;\">\n",
       "      <th><\/th>\n",
       "      <th>clinicid<\/th>\n",
       "      <th>hospitalname<\/th>\n",
       "      <th>IsHospital<\/th>\n",
       "      <th>City<\/th>\n",
       "      <th>Province<\/th>\n",
       "      <th>RegionName<\/th>\n",
       "    <\/tr>\n",
       "  <\/thead>\n",
       "  <tbody>\n",
       "    <tr>\n",
       "      <th>4<\/th>\n",
       "      <td>205C3608ECB984C1F5F5D2F52C934428<\/td>\n",
       "      <td>NaN<\/td>\n",
       "      <td>False<\/td>\n",
       "      <td>Burgos<\/td>\n",
       "      <td>Ilocos Sur<\/td>\n",
       "      <td>Ilocos Region (I)<\/td>\n",
       "    <\/tr>\n",
       "    <tr>\n",
       "      <th>7<\/th>\n",
       "      <td>07FF46BB6597A4F81EED4F59360FF835<\/td>\n",
       "      <td>NaN<\/td>\n",
       "      <td>False<\/td>\n",
       "      <td>Manila<\/td>\n",
       "      <td>Manila<\/td>\n",
       "      <td>National Capital Region (NCR)<\/td>\n",
       "    <\/tr>\n",
       "    <tr>\n",
       "      <th>8<\/th>\n",
       "      <td>23E582AD8087F2C03A5A31C125123F9A<\/td>\n",
       "      <td>NaN<\/td>\n",
       "      <td>False<\/td>\n",
       "      <td>Manila<\/td>\n",
       "      <td>Manila<\/td>\n",
       "      <td>National Capital Region (NCR)<\/td>\n",
       "    <\/tr>\n",
       "    <tr>\n",
       "      <th>9<\/th>\n",
       "      <td>5291822D0636DC429E80E953C58B6A76<\/td>\n",
       "      <td>NaN<\/td>\n",
       "      <td>False<\/td>\n",
       "      <td>Makati<\/td>\n",
       "      <td>Manila<\/td>\n",
       "      <td>National Capital Region (NCR)<\/td>\n",
       "    <\/tr>\n",
       "    <tr>\n",
       "      <th>10<\/th>\n",
       "      <td>588E343066CF54EC3DB5132231DF7D68<\/td>\n",
       "      <td>NaN<\/td>\n",
       "      <td>False<\/td>\n",
       "      <td>Manila<\/td>\n",
       "      <td>Manila<\/td>\n",
       "      <td>National Capital Region (NCR)<\/td>\n",
       "    <\/tr>\n",
       "    <tr>\n",
       "      <th>...<\/th>\n",
       "      <td>...<\/td>\n",
       "      <td>...<\/td>\n",
       "      <td>...<\/td>\n",
       "      <td>...<\/td>\n",
       "      <td>...<\/td>\n",
       "      <td>...<\/td>\n",
       "    <\/tr>\n",
       "    <tr>\n",
       "      <th>53956<\/th>\n",
       "      <td>5FD56C1FA3E5C045AC028E4EAB875EB0<\/td>\n",
       "      <td>NaN<\/td>\n",
       "      <td>False<\/td>\n",
       "      <td>Manila<\/td>\n",
       "      <td>Manila<\/td>\n",
       "      <td>National Capital Region (NCR)<\/td>\n",
       "    <\/tr>\n",
       "    <tr>\n",
       "      <th>53957<\/th>\n",
       "      <td>8DE279A56DBCECE9F9FFC514A7D5A378<\/td>\n",
       "      <td>NaN<\/td>\n",
       "      <td>False<\/td>\n",
       "      <td>Manila<\/td>\n",
       "      <td>Manila<\/td>\n",
       "      <td>National Capital Region (NCR)<\/td>\n",
       "    <\/tr>\n",
       "    <tr>\n",
       "      <th>53958<\/th>\n",
       "      <td>55A64961C9AA4134016786AE7202682E<\/td>\n",
       "      <td>NaN<\/td>\n",
       "      <td>False<\/td>\n",
       "      <td>Manila<\/td>\n",
       "      <td>Manila<\/td>\n",
       "      <td>National Capital Region (NCR)<\/td>\n",
       "    <\/tr>\n",
       "    <tr>\n",
       "      <th>53959<\/th>\n",
       "      <td>075E464A7D15E6E5B9D8F8F5B5B16BB9<\/td>\n",
       "      <td>NaN<\/td>\n",
       "      <td>False<\/td>\n",
       "      <td>Manila<\/td>\n",
       "      <td>Manila<\/td>\n",
       "      <td>National Capital Region (NCR)<\/td>\n",
       "    <\/tr>\n",
       "    <tr>\n",
       "      <th>53961<\/th>\n",
       "      <td>5DA48026B54B6EEB6062817CAA7C30EA<\/td>\n",
       "      <td>NaN<\/td>\n",
       "      <td>False<\/td>\n",
       "      <td>Malabon<\/td>\n",
       "      <td>Manila<\/td>\n",
       "      <td>National Capital Region (NCR)<\/td>\n",
       "    <\/tr>\n",
       "  <\/tbody>\n",
       "<\/table>\n",
       "<p>36424 rows × 6 columns<\/p>\n",
       "<\/div>"
      ]
     },
     "metadata":{
      
     },
     "output_type":"display_data"
    }
   ],
   "metadata":{
    "datalore":{
     "node_id":"y8jhX7ohQbO6DjFX1Pt3DN",
     "type":"CODE",
     "hide_input_from_viewers":true,
     "hide_output_from_viewers":true
    }
   }
  },
  {
   "cell_type":"markdown",
   "source":[
    "It seems that the majority of null values come from the *hospitalname* attribute. And interestingly, its null when the *isHospital* value is false. While the *hospitalname* is an interesting attribute, it is not justifiable to drop values due to it. The most important attribute for this dimensional table is all related to geographic data. Since all values related to geographic attribute is complete, the only cleaning to be done here is removing duplicate data if any exists."
   ],
   "attachments":{
    
   },
   "metadata":{
    "datalore":{
     "node_id":"OLlgL5zdO0d4MF7bfXaZDc",
     "type":"MD",
     "hide_input_from_viewers":true,
     "hide_output_from_viewers":true
    }
   }
  },
  {
   "cell_type":"code",
   "source":[
    "df_clinics.drop_duplicates(subset=['clinicid'], inplace=True)\n",
    "df_clinics = df_clinics[df_clinics['clinicid'].isin(df_appointment['clinicid'])]"
   ],
   "execution_count":22,
   "outputs":[
    
   ],
   "metadata":{
    "datalore":{
     "node_id":"pPGI52pNCJmAkDwpTbpxEm",
     "type":"CODE",
     "hide_input_from_viewers":true,
     "hide_output_from_viewers":true
    }
   }
  },
  {
   "cell_type":"markdown",
   "source":[
    "The *isHospital* values will also be changed accordingly. Instead of *True* or *False*. A tinyint value of 1 or 0 will be used to save space and to ensure valid data type when the ETL script processes the csv."
   ],
   "attachments":{
    
   },
   "metadata":{
    "datalore":{
     "node_id":"7l4IqeqVqWJuGVTWyHgh1O",
     "type":"MD",
     "hide_input_from_viewers":true,
     "hide_output_from_viewers":true
    }
   }
  },
  {
   "cell_type":"code",
   "source":[
    "df_clinics['IsHospital'] = df_clinics['IsHospital'].map({True: 1, False: 0})"
   ],
   "execution_count":23,
   "outputs":[
    
   ],
   "metadata":{
    "datalore":{
     "node_id":"R0uk9demkMHqZxItGRxiyz",
     "type":"CODE",
     "hide_input_from_viewers":true,
     "hide_output_from_viewers":true
    }
   }
  },
  {
   "cell_type":"markdown",
   "source":[
    "# Cleaning the px table\n",
    "The clinics table has the following attributes:\n",
    "- pxid\n",
    "- age\n",
    "- gender\n",
    "  \n",
    "Let us see px (patient) data that have missing values on any attribute and determine if they should be dropped"
   ],
   "attachments":{
    
   },
   "metadata":{
    "datalore":{
     "node_id":"TDFnKW3g3WUO0d8k5ynoam",
     "type":"MD",
     "hide_input_from_viewers":true,
     "hide_output_from_viewers":true
    }
   }
  },
  {
   "cell_type":"code",
   "source":[
    "px_with_missing_values = df_px[df_px.isnull().any(axis=1)]\n",
    "px_with_missing_values"
   ],
   "execution_count":24,
   "outputs":[
    {
     "data":{
      "text\/html":[
       "<div>\n",
       "<style scoped>\n",
       "    .dataframe tbody tr th:only-of-type {\n",
       "        vertical-align: middle;\n",
       "    }\n",
       "\n",
       "    .dataframe tbody tr th {\n",
       "        vertical-align: top;\n",
       "    }\n",
       "\n",
       "    .dataframe thead th {\n",
       "        text-align: right;\n",
       "    }\n",
       "<\/style>\n",
       "<table border=\"1\" class=\"dataframe\">\n",
       "  <thead>\n",
       "    <tr style=\"text-align: right;\">\n",
       "      <th><\/th>\n",
       "      <th>pxid<\/th>\n",
       "      <th>age<\/th>\n",
       "      <th>gender<\/th>\n",
       "    <\/tr>\n",
       "  <\/thead>\n",
       "  <tbody>\n",
       "    <tr>\n",
       "      <th>0<\/th>\n",
       "      <td>5A1718EC380AFE6BE24D63EE78CDA043<\/td>\n",
       "      <td>NaN<\/td>\n",
       "      <td>FEMALE<\/td>\n",
       "    <\/tr>\n",
       "    <tr>\n",
       "      <th>150509<\/th>\n",
       "      <td>F4925C087C35FBC2F685EA6C6E577A17<\/td>\n",
       "      <td>NaN<\/td>\n",
       "      <td>FEMALE<\/td>\n",
       "    <\/tr>\n",
       "    <tr>\n",
       "      <th>150510<\/th>\n",
       "      <td>5B810EC6EDFA1818DC338923646A58D9<\/td>\n",
       "      <td>NaN<\/td>\n",
       "      <td>FEMALE<\/td>\n",
       "    <\/tr>\n",
       "    <tr>\n",
       "      <th>150511<\/th>\n",
       "      <td>924A1081F5753DE0770A40BC4E702095<\/td>\n",
       "      <td>NaN<\/td>\n",
       "      <td>FEMALE<\/td>\n",
       "    <\/tr>\n",
       "    <tr>\n",
       "      <th>150512<\/th>\n",
       "      <td>5CA5A3467106D314655996D182AEA163<\/td>\n",
       "      <td>NaN<\/td>\n",
       "      <td>FEMALE<\/td>\n",
       "    <\/tr>\n",
       "    <tr>\n",
       "      <th>...<\/th>\n",
       "      <td>...<\/td>\n",
       "      <td>...<\/td>\n",
       "      <td>...<\/td>\n",
       "    <\/tr>\n",
       "    <tr>\n",
       "      <th>4206625<\/th>\n",
       "      <td>093F00B0A69DA40087DF42799C5C4BBD<\/td>\n",
       "      <td>NaN<\/td>\n",
       "      <td>FEMALE<\/td>\n",
       "    <\/tr>\n",
       "    <tr>\n",
       "      <th>4206662<\/th>\n",
       "      <td>63E00B95D4ACE351E7949ED8113FAE18<\/td>\n",
       "      <td>NaN<\/td>\n",
       "      <td>FEMALE<\/td>\n",
       "    <\/tr>\n",
       "    <tr>\n",
       "      <th>4206694<\/th>\n",
       "      <td>52F2A6519C2529AAB9480B1AA5A8C4E9<\/td>\n",
       "      <td>NaN<\/td>\n",
       "      <td>FEMALE<\/td>\n",
       "    <\/tr>\n",
       "    <tr>\n",
       "      <th>4206730<\/th>\n",
       "      <td>6EAF318B180CD4E9F121C99B5E238914<\/td>\n",
       "      <td>NaN<\/td>\n",
       "      <td>FEMALE<\/td>\n",
       "    <\/tr>\n",
       "    <tr>\n",
       "      <th>4206760<\/th>\n",
       "      <td>6B44E837D98C3A0B12B0D074D55BD3E6<\/td>\n",
       "      <td>NaN<\/td>\n",
       "      <td>FEMALE<\/td>\n",
       "    <\/tr>\n",
       "  <\/tbody>\n",
       "<\/table>\n",
       "<p>12222 rows × 3 columns<\/p>\n",
       "<\/div>"
      ]
     },
     "metadata":{
      
     },
     "output_type":"display_data"
    }
   ],
   "metadata":{
    "datalore":{
     "node_id":"tekEeA49iLGvmblBAowzVd",
     "type":"CODE",
     "hide_input_from_viewers":true,
     "hide_output_from_viewers":true
    }
   }
  },
  {
   "cell_type":"markdown",
   "source":[
    "A significant amount of missing data is related to the age value. While this is a justifiable cause to drop data. For the purpose of our OLAP application, missing age values are okay as the application is focused more on whether the patient is linked to an appointment. Thus, the only cleaning done here is removing duplicate data if any."
   ],
   "attachments":{
    
   },
   "metadata":{
    "datalore":{
     "node_id":"xw4a6ImfrxwULWTjiwPvEv",
     "type":"MD",
     "hide_input_from_viewers":true,
     "hide_output_from_viewers":true
    }
   }
  },
  {
   "cell_type":"code",
   "source":[
    "df_px.drop_duplicates(subset=['pxid'], inplace=True)\n",
    "df_px = df_px[df_px['pxid'].isin(df_appointment['pxid'])]"
   ],
   "execution_count":25,
   "outputs":[
    
   ],
   "metadata":{
    "datalore":{
     "node_id":"K1XxMlqSCjUzQPol5YYxk4",
     "type":"CODE",
     "hide_input_from_viewers":true,
     "hide_output_from_viewers":true
    }
   }
  },
  {
   "cell_type":"markdown",
   "source":[
    "# Cleaning the doctors table\n",
    "The clinics table has the following attributes:\n",
    "- doctorid\n",
    "- mainspecialty\n",
    "- age\n",
    "  \n",
    "Let us see doctor data that have missing values on any attribute and determine if they should be dropped"
   ],
   "attachments":{
    
   },
   "metadata":{
    "datalore":{
     "node_id":"QByeUmdkAMNeLzgIo96SLS",
     "type":"MD",
     "hide_input_from_viewers":true,
     "hide_output_from_viewers":true
    }
   }
  },
  {
   "cell_type":"code",
   "source":[
    "doctors_with_missing_values = df_doctors[df_doctors.isnull().any(axis=1)]\n",
    "doctors_with_missing_values"
   ],
   "execution_count":26,
   "outputs":[
    {
     "data":{
      "text\/html":[
       "<div>\n",
       "<style scoped>\n",
       "    .dataframe tbody tr th:only-of-type {\n",
       "        vertical-align: middle;\n",
       "    }\n",
       "\n",
       "    .dataframe tbody tr th {\n",
       "        vertical-align: top;\n",
       "    }\n",
       "\n",
       "    .dataframe thead th {\n",
       "        text-align: right;\n",
       "    }\n",
       "<\/style>\n",
       "<table border=\"1\" class=\"dataframe\">\n",
       "  <thead>\n",
       "    <tr style=\"text-align: right;\">\n",
       "      <th><\/th>\n",
       "      <th>doctorid<\/th>\n",
       "      <th>mainspecialty<\/th>\n",
       "      <th>age<\/th>\n",
       "    <\/tr>\n",
       "  <\/thead>\n",
       "  <tbody>\n",
       "    <tr>\n",
       "      <th>24<\/th>\n",
       "      <td>ED3D2C21991E3BEF5E069713AF9FA6CA<\/td>\n",
       "      <td>NaN<\/td>\n",
       "      <td>NaN<\/td>\n",
       "    <\/tr>\n",
       "    <tr>\n",
       "      <th>28<\/th>\n",
       "      <td>EC8956637A99787BD197EACD77ACCE5E<\/td>\n",
       "      <td>NaN<\/td>\n",
       "      <td>NaN<\/td>\n",
       "    <\/tr>\n",
       "    <tr>\n",
       "      <th>31<\/th>\n",
       "      <td>65B9EEA6E1CC6BB9F0CD2A47751A186F<\/td>\n",
       "      <td>NaN<\/td>\n",
       "      <td>NaN<\/td>\n",
       "    <\/tr>\n",
       "    <tr>\n",
       "      <th>33<\/th>\n",
       "      <td>A97DA629B098B75C294DFFDC3E463904<\/td>\n",
       "      <td>NaN<\/td>\n",
       "      <td>NaN<\/td>\n",
       "    <\/tr>\n",
       "    <tr>\n",
       "      <th>38<\/th>\n",
       "      <td>7F6FFAA6BB0B408017B62254211691B5<\/td>\n",
       "      <td>NaN<\/td>\n",
       "      <td>NaN<\/td>\n",
       "    <\/tr>\n",
       "    <tr>\n",
       "      <th>...<\/th>\n",
       "      <td>...<\/td>\n",
       "      <td>...<\/td>\n",
       "      <td>...<\/td>\n",
       "    <\/tr>\n",
       "    <tr>\n",
       "      <th>60016<\/th>\n",
       "      <td>3DC09677E0FDB539A31D497C4FB25F20<\/td>\n",
       "      <td>general practitioner<\/td>\n",
       "      <td>NaN<\/td>\n",
       "    <\/tr>\n",
       "    <tr>\n",
       "      <th>60017<\/th>\n",
       "      <td>39D96AC1450B2D517807DC8A94B26C17<\/td>\n",
       "      <td>Ophthalmology<\/td>\n",
       "      <td>NaN<\/td>\n",
       "    <\/tr>\n",
       "    <tr>\n",
       "      <th>60020<\/th>\n",
       "      <td>4473D870B5E31FAA40D2C45E1FF6DC27<\/td>\n",
       "      <td>NaN<\/td>\n",
       "      <td>NaN<\/td>\n",
       "    <\/tr>\n",
       "    <tr>\n",
       "      <th>60021<\/th>\n",
       "      <td>A4F554EB2C0934E7FDE2511E8C1573BA<\/td>\n",
       "      <td>NaN<\/td>\n",
       "      <td>NaN<\/td>\n",
       "    <\/tr>\n",
       "    <tr>\n",
       "      <th>60022<\/th>\n",
       "      <td>E540A361D93D37A33BB2F55D43DA79D9<\/td>\n",
       "      <td>General Practitioner<\/td>\n",
       "      <td>NaN<\/td>\n",
       "    <\/tr>\n",
       "  <\/tbody>\n",
       "<\/table>\n",
       "<p>40066 rows × 3 columns<\/p>\n",
       "<\/div>"
      ]
     },
     "metadata":{
      
     },
     "output_type":"display_data"
    }
   ],
   "metadata":{
    "datalore":{
     "node_id":"7SDb235bVoaMAb7eFoNZxb",
     "type":"CODE",
     "hide_input_from_viewers":true,
     "hide_output_from_viewers":true
    }
   }
  },
  {
   "cell_type":"markdown",
   "source":[
    "A significant portion of missing data is attributed to the *mainspecialty* attribute. Because the OLAP application involves knowing the doctor's specialty. Doctors with missing specialties will be dropped. The *age* attribute in this case is not focused on. Duplicate doctor data will also be dropped."
   ],
   "attachments":{
    
   },
   "metadata":{
    "datalore":{
     "node_id":"CGntswWFDroImHflKzojIJ",
     "type":"MD",
     "hide_input_from_viewers":true,
     "hide_output_from_viewers":true
    }
   }
  },
  {
   "cell_type":"code",
   "source":[
    "df_doctors.dropna(subset=['mainspecialty'], inplace=True)\n",
    "df_doctors.drop_duplicates(subset=['doctorid'], inplace=True)"
   ],
   "execution_count":27,
   "outputs":[
    
   ],
   "metadata":{
    "datalore":{
     "node_id":"DyS6TgjAXwtCuPo8MZVYP0",
     "type":"CODE",
     "hide_input_from_viewers":true,
     "hide_output_from_viewers":true
    }
   }
  },
  {
   "cell_type":"code",
   "source":[
    "df_doctors[\"mainspecialty\"].unique()"
   ],
   "execution_count":28,
   "outputs":[
    {
     "data":{
      "text\/html":[
       "<pre>array(['General Medicine', 'Family Medicine', 'Vascular Medicine', ...,\n",
       "       'Bone alignment therapy', 'Healot Biomekaniks', 'Allergist'],\n",
       "      dtype=object)<\/pre>"
      ]
     },
     "metadata":{
      
     },
     "output_type":"display_data"
    }
   ],
   "metadata":{
    "datalore":{
     "node_id":"tnTQYPT7qqbAFAwAWDhHPI",
     "type":"CODE",
     "hide_input_from_viewers":true,
     "hide_output_from_viewers":true
    }
   }
  },
  {
   "cell_type":"markdown",
   "source":[
    "Unfortunately for this dataset, the gathering of doctor data in regard to their specialty was done poorly. This means inconsistent specialty of doctor. A strategy to somehow make the data a bit more consistent is to group specialties that are similar. Those that were not grouped will be analyzed so that it could either be dropped or processed to have consistent values with similar grouped values. "
   ],
   "attachments":{
    
   },
   "metadata":{
    "datalore":{
     "node_id":"f0eWTja5VCvGfY6LmZDDmh",
     "type":"MD",
     "hide_input_from_viewers":true,
     "hide_output_from_viewers":true
    }
   }
  },
  {
   "cell_type":"code",
   "source":[
    "# Group the values\n",
    "grouped = df_doctors.groupby('mainspecialty')\n",
    "\n",
    "# Find the unique values\n",
    "unique_values = df_doctors['mainspecialty'].value_counts()\n",
    "\n",
    "# Output the values that were not grouped (they appear only once in the column)\n",
    "outliers = unique_values[unique_values == 1]\n",
    "\n",
    "unique_values"
   ],
   "execution_count":29,
   "outputs":[
    {
     "data":{
      "text\/html":[
       "<pre>Internal Medicine                           3812\n",
       "General Medicine                            2317\n",
       "Pediatrics                                  1709\n",
       "Family Medicine                              894\n",
       "General Physician                            881\n",
       "                                            ... \n",
       "General Physician (Pediatrics and Adult)       1\n",
       "Marc                                           1\n",
       "Orthopaedics (Bone and Joint Surgery)          1\n",
       "Generalists                                    1\n",
       "Allergist                                      1\n",
       "Name: mainspecialty, Length: 3974, dtype: int64<\/pre>"
      ]
     },
     "metadata":{
      
     },
     "output_type":"display_data"
    }
   ],
   "metadata":{
    "datalore":{
     "node_id":"n4d9U5ZRHAzWNJdBu8EXME",
     "type":"CODE",
     "hide_input_from_viewers":true,
     "hide_output_from_viewers":true
    }
   }
  },
  {
   "cell_type":"code",
   "source":[
    "outliers"
   ],
   "execution_count":30,
   "outputs":[
    {
     "data":{
      "text\/html":[
       "<pre>ORTHODONTIST\/Veneers                             1\n",
       "General Medicine\/Occupational Health Physcian    1\n",
       "Adult Psychiatry and Behavioral Medicine         1\n",
       "Faye Garciano                                    1\n",
       "Child psychiatrist                               1\n",
       "                                                ..\n",
       "General Physician (Pediatrics and Adult)         1\n",
       "Marc                                             1\n",
       "Orthopaedics (Bone and Joint Surgery)            1\n",
       "Generalists                                      1\n",
       "Allergist                                        1\n",
       "Name: mainspecialty, Length: 3085, dtype: int64<\/pre>"
      ]
     },
     "metadata":{
      
     },
     "output_type":"display_data"
    }
   ],
   "metadata":{
    "datalore":{
     "node_id":"QFBzdzOXMKpAs8LQ76nXBJ",
     "type":"CODE",
     "hide_input_from_viewers":true,
     "hide_output_from_viewers":true
    }
   }
  },
  {
   "cell_type":"markdown",
   "source":[
    "Unfortunately, even if grouping helps in showing the outliers. There are some specialties that are valid and some that are not, and it would be unwise to carelessly drop these values as they might be important for analysis in the OLAP application. Thus, they will be left as is."
   ],
   "attachments":{
    
   },
   "metadata":{
    "datalore":{
     "node_id":"NuFuil8V70CKU01jAEc8uU",
     "type":"MD",
     "hide_input_from_viewers":true,
     "hide_output_from_viewers":true
    }
   }
  },
  {
   "cell_type":"markdown",
   "source":[
    "# Cleaning the appointments table\n",
    "The clinics table has the following attributes:\n",
    "- pxid\n",
    "- clinicid\n",
    "- doctorid\n",
    "- apptid\n",
    "- status\n",
    "- TimeQueued\n",
    "- QueueDate\n",
    "- StartTime\n",
    "- EndTime\n",
    "- type\n",
    "- Virtual\n",
    "  \n",
    "For the appointment data, let us ignore the attributes related to time as special cleaning is needed. The attribute to checks will be the validity of the appointment. Since the fact table is essential in the OLAP application, the appointments made contain necessary data such as *QueueDate, status, type, *and* virtual*. The key attribute must also be complete to fully connect the three dimensional tables."
   ],
   "attachments":{
    
   },
   "metadata":{
    "datalore":{
     "node_id":"3tH4hYm18ARMMoLsjGLCF8",
     "type":"MD",
     "hide_input_from_viewers":true,
     "hide_output_from_viewers":true
    }
   }
  },
  {
   "cell_type":"code",
   "source":[
    "columns_to_check = [\"clinicid\", \"doctorid\", \"apptid\", \"pxid\", \"QueueDate\", \"status\", \"type\", \"Virtual\"]\n",
    "df_appointment = df_appointment.dropna(subset=columns_to_check)"
   ],
   "execution_count":31,
   "outputs":[
    
   ],
   "metadata":{
    "datalore":{
     "node_id":"Rr5fZQYcn4DJggdo6qE2Im",
     "type":"CODE",
     "hide_input_from_viewers":true,
     "hide_output_from_viewers":true
    }
   }
  },
  {
   "cell_type":"markdown",
   "source":[
    "Because all the query statements in the OLAP application will use the appointment table as a way to connect to the other connection table. We need to ensure that all key attributes do actually exist in the dimension tables. Thus, if a key value in an appointment table does not exist in the corresponding table, it will be dropped to ensure validity and integrity."
   ],
   "attachments":{
    
   },
   "metadata":{
    "datalore":{
     "node_id":"sv0QFHwg9Rx9FHJe29buio",
     "type":"MD",
     "hide_input_from_viewers":true,
     "hide_output_from_viewers":true
    }
   }
  },
  {
   "cell_type":"code",
   "source":[
    "df_appointment = df_appointment[df_appointment['clinicid'].isin(df_clinics['clinicid'])]\n",
    "df_appointment = df_appointment[df_appointment['doctorid'].isin(df_doctors['doctorid'])]\n",
    "df_appointment = df_appointment[df_appointment['pxid'].isin(df_px['pxid'])]\n",
    "df_appointment.drop_duplicates(subset=['apptid'], inplace=True)"
   ],
   "execution_count":32,
   "outputs":[
    {
     "data":{
      "text\/html":[
       "<div><strong>Dask DataFrame Structure:<\/strong><\/div>\n",
       "<div>\n",
       "<style scoped>\n",
       "    .dataframe tbody tr th:only-of-type {\n",
       "        vertical-align: middle;\n",
       "    }\n",
       "\n",
       "    .dataframe tbody tr th {\n",
       "        vertical-align: top;\n",
       "    }\n",
       "\n",
       "    .dataframe thead th {\n",
       "        text-align: right;\n",
       "    }\n",
       "<\/style>\n",
       "<table border=\"1\" class=\"dataframe\">\n",
       "  <thead>\n",
       "    <tr style=\"text-align: right;\">\n",
       "      <th><\/th>\n",
       "      <th>pxid<\/th>\n",
       "      <th>clinicid<\/th>\n",
       "      <th>doctorid<\/th>\n",
       "      <th>apptid<\/th>\n",
       "      <th>status<\/th>\n",
       "      <th>TimeQueued<\/th>\n",
       "      <th>QueueDate<\/th>\n",
       "      <th>StartTime<\/th>\n",
       "      <th>EndTime<\/th>\n",
       "      <th>type<\/th>\n",
       "      <th>Virtual<\/th>\n",
       "    <\/tr>\n",
       "    <tr>\n",
       "      <th>npartitions=1<\/th>\n",
       "      <th><\/th>\n",
       "      <th><\/th>\n",
       "      <th><\/th>\n",
       "      <th><\/th>\n",
       "      <th><\/th>\n",
       "      <th><\/th>\n",
       "      <th><\/th>\n",
       "      <th><\/th>\n",
       "      <th><\/th>\n",
       "      <th><\/th>\n",
       "      <th><\/th>\n",
       "    <\/tr>\n",
       "  <\/thead>\n",
       "  <tbody>\n",
       "    <tr>\n",
       "      <th><\/th>\n",
       "      <td>object<\/td>\n",
       "      <td>object<\/td>\n",
       "      <td>object<\/td>\n",
       "      <td>object<\/td>\n",
       "      <td>object<\/td>\n",
       "      <td>object<\/td>\n",
       "      <td>object<\/td>\n",
       "      <td>object<\/td>\n",
       "      <td>object<\/td>\n",
       "      <td>object<\/td>\n",
       "      <td>object<\/td>\n",
       "    <\/tr>\n",
       "    <tr>\n",
       "      <th><\/th>\n",
       "      <td>...<\/td>\n",
       "      <td>...<\/td>\n",
       "      <td>...<\/td>\n",
       "      <td>...<\/td>\n",
       "      <td>...<\/td>\n",
       "      <td>...<\/td>\n",
       "      <td>...<\/td>\n",
       "      <td>...<\/td>\n",
       "      <td>...<\/td>\n",
       "      <td>...<\/td>\n",
       "      <td>...<\/td>\n",
       "    <\/tr>\n",
       "  <\/tbody>\n",
       "<\/table>\n",
       "<\/div>\n",
       "<div>Dask Name: drop-duplicates-agg, 26 graph layers<\/div>"
      ]
     },
     "metadata":{
      
     },
     "output_type":"display_data"
    }
   ],
   "metadata":{
    "datalore":{
     "node_id":"GpLKgagezT65t7vRn2vXFY",
     "type":"CODE",
     "hide_input_from_viewers":true,
     "hide_output_from_viewers":true
    }
   }
  },
  {
   "cell_type":"markdown",
   "source":[
    "Similarly to the clinics table. the *Virtual* attribute will be converted into tinyInt 0 and 1 to ensure a smooth ETL process."
   ],
   "attachments":{
    
   },
   "metadata":{
    "datalore":{
     "node_id":"19OrD76Ftjy39k5Ki5YaBQ",
     "type":"MD",
     "hide_input_from_viewers":true,
     "hide_output_from_viewers":true
    }
   }
  },
  {
   "cell_type":"code",
   "source":[
    "df_appointment['Virtual'] = df_appointment['Virtual'].map({'True': 1, 'False': 0})"
   ],
   "execution_count":33,
   "outputs":[
    
   ],
   "metadata":{
    "datalore":{
     "node_id":"LR7T4XXTktTBipy6VhPtmc",
     "type":"CODE",
     "hide_input_from_viewers":true,
     "hide_output_from_viewers":true
    }
   }
  },
  {
   "cell_type":"markdown",
   "source":[
    "Time-related attributes will simply be changed to the appropriate data type based on their name."
   ],
   "attachments":{
    
   },
   "metadata":{
    "datalore":{
     "node_id":"AczHez94CFr4SuGueUYcDu",
     "type":"MD",
     "hide_input_from_viewers":true,
     "hide_output_from_viewers":true
    }
   }
  },
  {
   "cell_type":"code",
   "source":[
    "time_columns = [\"TimeQueued\", \"QueueDate\", \"StartTime\", \"EndTime\"]\n",
    "\n",
    "for time in time_columns:\n",
    "    df_appointment[time] = dd.to_datetime(df_appointment[time])\n",
    "    if \"Date\" in time:\n",
    "        df_appointment[time] = df_appointment[time].dt.date\n",
    "    else:\n",
    "        df_appointment[time] = df_appointment[time].dt.time"
   ],
   "execution_count":34,
   "outputs":[
    
   ],
   "metadata":{
    "datalore":{
     "node_id":"98Zdc3EKj1twajPvfdeG0h",
     "type":"CODE",
     "hide_input_from_viewers":true,
     "hide_output_from_viewers":true
    }
   }
  },
  {
   "cell_type":"markdown",
   "source":[
    "# Renaming\n",
    "Finally, to follow database naming convention. All attributes except boolean attributes will follow the snake case naming convention. While boolean attributes will follow the camel case naming convention."
   ],
   "attachments":{
    
   },
   "metadata":{
    "datalore":{
     "node_id":"tEZDFQ5rrMBOnwbeJH4tj9",
     "type":"MD",
     "hide_input_from_viewers":true,
     "hide_output_from_viewers":true
    }
   }
  },
  {
   "cell_type":"code",
   "source":[
    "df_clinics = df_clinics.rename(columns={\n",
    "    'clinicid': 'clinic_id',\n",
    "    'hospitalname': 'hospital_name',\n",
    "    'IsHospital': 'isHospital',\n",
    "    'City': 'city',\n",
    "    'Province': 'province',\n",
    "    'RegionName': 'region_name'\n",
    "})\n",
    "\n",
    "df_px = df_px.rename(columns={\n",
    "    'pxid' : 'px_id'\n",
    "})\n",
    "\n",
    "df_doctors = df_doctors.rename(columns={\n",
    "    'doctorid': 'doctors_id',\n",
    "    'mainspecialty': 'main_specialty'\n",
    "})\n",
    "\n",
    "df_appointment = df_appointment.rename(columns={\n",
    "    'pxid': 'px_id',\n",
    "    'clinicid': 'clinic_id',\n",
    "    'doctorid': 'doctors_id',\n",
    "    'apptid': 'appt_id',\n",
    "    'TimeQueued': 'timequeued',\n",
    "    'QueueDate': 'queuedate',\n",
    "    'StartTime': 'starttime',\n",
    "    'EndTime': 'endtime',\n",
    "    'Virtual': 'isVirtual'\n",
    "})\n"
   ],
   "execution_count":35,
   "outputs":[
    
   ],
   "metadata":{
    "datalore":{
     "node_id":"9lYpYjBoYws8uggtxEbaJj",
     "type":"CODE",
     "hide_input_from_viewers":true,
     "hide_output_from_viewers":true
    }
   }
  },
  {
   "cell_type":"code",
   "source":[
    "df_doctors.to_csv(\"cleaned_doctors.csv\", index=False)\n",
    "#For some reason, clinic.csv headers still defaults, so headers are explicitly added\n",
    "df_clinics.to_csv(\"cleaned_clinics.csv\", index=False, header=['clinic_id', 'hospital_name', 'isHospital', 'city', 'province', 'region_name'])\n",
    "df_px.to_csv(\"cleaned_px.csv\", index=False)\n",
    "#Same with clinic.csv explicitly add the headers\n",
    "df_appointment.to_csv(\"cleaned_appointments.csv\", index=False, single_file=True, header=['px_id', 'clinic_id', 'doctors_id', 'appt_id', 'status', 'timequeued', 'queuedate', 'starttime', 'endtime', 'type', 'isVirtual'])"
   ],
   "execution_count":36,
   "outputs":[
    {
     "data":{
      "text\/plain":[
       "['\/data\/notebook_files\/cleaned_appointments.csv']"
      ]
     },
     "metadata":{
      
     },
     "output_type":"display_data"
    }
   ],
   "metadata":{
    "datalore":{
     "node_id":"A8jEO2wzgGlqmEjn3sEi1C",
     "type":"CODE",
     "hide_input_from_viewers":true,
     "hide_output_from_viewers":true
    }
   }
  }
 ],
 "metadata":{
  "kernelspec":{
   "display_name":"Python",
   "language":"python",
   "name":"python"
  },
  "datalore":{
   "computation_mode":"JUPYTER",
   "package_manager":"pip",
   "base_environment":"default",
   "packages":[
    {
     "name":"dask",
     "version":"2023.5.0",
     "source":"PIP"
    }
   ],
   "report_row_ids":[
    
   ],
   "version":3
  }
 },
 "nbformat":4,
 "nbformat_minor":4
}
